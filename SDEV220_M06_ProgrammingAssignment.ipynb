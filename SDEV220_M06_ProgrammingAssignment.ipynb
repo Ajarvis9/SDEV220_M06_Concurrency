{
 "cells": [
  {
   "cell_type": "code",
   "execution_count": null,
   "id": "d641ff20-f0a3-42d4-8a71-5eda9ae3244d",
   "metadata": {},
   "outputs": [],
   "source": [
    "#13.1 a seperate text file was made for a string containting the date"
   ]
  },
  {
   "cell_type": "code",
   "execution_count": 35,
   "id": "b6e314fa-9297-4077-b18d-2795e50b9c36",
   "metadata": {},
   "outputs": [
    {
     "name": "stdout",
     "output_type": "stream",
     "text": [
      "11-29-2024\n",
      "\n"
     ]
    }
   ],
   "source": [
    "#13.2\n",
    "file_path = 'today.txt'\n",
    "\n",
    "file = open(file_path, 'r')\n",
    "\n",
    "today_string = file.read()\n",
    "print(today_string)"
   ]
  },
  {
   "cell_type": "code",
   "execution_count": 37,
   "id": "53357eca-967a-47a7-b4ff-3a4880d370a7",
   "metadata": {},
   "outputs": [
    {
     "name": "stdout",
     "output_type": "stream",
     "text": [
      "11/29/2024\n"
     ]
    }
   ],
   "source": [
    "#13.3\n",
    "import datetime\n",
    "file_path = 'today.txt'\n",
    "\n",
    "with open('today.txt', 'r') as date:\n",
    "    today_string = date.readline().strip()\n",
    "\n",
    "date_object = datetime.datetime.strptime(today_string, '%m-%d-%Y')\n",
    "\n",
    "formatted_date_string = date_object.strftime('%m/%d/%Y')\n",
    "\n",
    "print(formatted_date_string)"
   ]
  },
  {
   "cell_type": "code",
   "execution_count": 5,
   "id": "c8245203-b433-4aef-bb67-75da9f62a81e",
   "metadata": {},
   "outputs": [],
   "source": [
    "#15.1 Use multiprocessing to create three separate processes. \n",
    "#Make each one wait a random number of seconds between zero and one, print the current time, and then exit.\n",
    "\n",
    "#will not run in Jupyter but runs fine in VS Code\n",
    "\n",
    "import multiprocessing \n",
    "from multiprocessing import Process\n",
    "import time, datetime\n",
    "\n",
    "def greet():\n",
    "    print(\"Hello\")\n",
    "    time.sleep(1)\n",
    "    print(datetime.datetime.now())\n",
    "\n",
    "def main():\n",
    "    proc_1 = multiprocessing.Process(target=greet)\n",
    "    proc_2 = multiprocessing.Process(target=greet)\n",
    "    proc_3 = multiprocessing.Process(target=greet)\n",
    "\n",
    "    proc_1.start()\n",
    "    proc_2.start()\n",
    "    proc_3.start()\n",
    "\n",
    "    proc_1.join()\n",
    "    proc_2.join()\n",
    "    proc_3.join()\n",
    "\n",
    "if __name__ == \"__main__\":\n",
    "    main()"
   ]
  },
  {
   "cell_type": "code",
   "execution_count": null,
   "id": "1a12a1d8-4385-4f65-ac64-535c7771db42",
   "metadata": {},
   "outputs": [],
   "source": []
  }
 ],
 "metadata": {
  "kernelspec": {
   "display_name": "Python 3 (ipykernel)",
   "language": "python",
   "name": "python3"
  },
  "language_info": {
   "codemirror_mode": {
    "name": "ipython",
    "version": 3
   },
   "file_extension": ".py",
   "mimetype": "text/x-python",
   "name": "python",
   "nbconvert_exporter": "python",
   "pygments_lexer": "ipython3",
   "version": "3.12.4"
  }
 },
 "nbformat": 4,
 "nbformat_minor": 5
}
